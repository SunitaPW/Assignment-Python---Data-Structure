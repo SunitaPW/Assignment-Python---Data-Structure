{
  "nbformat": 4,
  "nbformat_minor": 0,
  "metadata": {
    "colab": {
      "provenance": []
    },
    "kernelspec": {
      "name": "python3",
      "display_name": "Python 3"
    },
    "language_info": {
      "name": "python"
    }
  },
  "cells": [
    {
      "cell_type": "markdown",
      "source": [
        "Answer 1 :- String Slicing :- String slicing helps to find the specific elements of a string by mentioning specific start index and end index.\n",
        "\n",
        "In the string slicing index also count the space in the sentences.\n",
        "\n",
        "The String Slicing example mention below :-"
      ],
      "metadata": {
        "id": "dIARTRayCY9S"
      }
    },
    {
      "cell_type": "code",
      "source": [
        "# Example :-\n",
        "\n",
        "str1 = \"Hey, I am Sunita and currently I am doing a data analytics course\"\n",
        "str1"
      ],
      "metadata": {
        "colab": {
          "base_uri": "https://localhost:8080/",
          "height": 35
        },
        "id": "EF1IaZlrDqEh",
        "outputId": "4a0f4715-73e6-4acd-d49a-20abeb5fce76"
      },
      "execution_count": null,
      "outputs": [
        {
          "output_type": "execute_result",
          "data": {
            "text/plain": [
              "'Hey, I am Sunita and currently I am doing a data analytics course'"
            ],
            "application/vnd.google.colaboratory.intrinsic+json": {
              "type": "string"
            }
          },
          "metadata": {},
          "execution_count": 2
        }
      ]
    },
    {
      "cell_type": "code",
      "source": [
        "str1[0:16]"
      ],
      "metadata": {
        "colab": {
          "base_uri": "https://localhost:8080/",
          "height": 35
        },
        "id": "uZM0Xx9yDqA4",
        "outputId": "466f78b5-4c1c-44f4-e8a2-bf11336edd32"
      },
      "execution_count": null,
      "outputs": [
        {
          "output_type": "execute_result",
          "data": {
            "text/plain": [
              "'Hey, I am Sunita'"
            ],
            "application/vnd.google.colaboratory.intrinsic+json": {
              "type": "string"
            }
          },
          "metadata": {},
          "execution_count": 4
        }
      ]
    },
    {
      "cell_type": "code",
      "source": [
        "str1[17:]"
      ],
      "metadata": {
        "colab": {
          "base_uri": "https://localhost:8080/",
          "height": 35
        },
        "id": "HDKLFAZhDpE6",
        "outputId": "92066028-e4ae-490f-8e82-98c6e1f64c5e"
      },
      "execution_count": null,
      "outputs": [
        {
          "output_type": "execute_result",
          "data": {
            "text/plain": [
              "'and currently I am doing a data analytics course'"
            ],
            "application/vnd.google.colaboratory.intrinsic+json": {
              "type": "string"
            }
          },
          "metadata": {},
          "execution_count": 6
        }
      ]
    },
    {
      "cell_type": "markdown",
      "source": [
        "Answer 2 :- The key features of the list in python are:-\n",
        "\n",
        "- List is ordered collection of items/elements.\n",
        "- List is indicated from Square Bracket [ ].\n",
        "- List can store various data type (Integer, Float, Boolean, Strings, Complex value).\n",
        "- List is a mutable object, It means the elements/value stored in list can be changed.\n",
        "-In list you can add, or remove, or modify element using indexing and slicing method.\n",
        "- List are versatile for storing and managing collections that might change.\n",
        "\n"
      ],
      "metadata": {
        "id": "OUN1TErWFqKh"
      }
    },
    {
      "cell_type": "markdown",
      "source": [
        "Answer 3 :- Below are the example for access, Modify, and delete elements in the List :-"
      ],
      "metadata": {
        "id": "8ihNCOsyHhM9"
      }
    },
    {
      "cell_type": "code",
      "source": [
        "# Example for access the list elements :-\n",
        "\n",
        "shopping_list = [\"Apple\", \"Orange\", \"Milk\", \"pen\", 123, 23.56, \"copy\", 3+8j, True, False]\n",
        "shopping_list"
      ],
      "metadata": {
        "colab": {
          "base_uri": "https://localhost:8080/"
        },
        "id": "Thi5TSdpFEOT",
        "outputId": "80842c3c-4c0e-41de-ca62-04ade66286cc"
      },
      "execution_count": null,
      "outputs": [
        {
          "output_type": "execute_result",
          "data": {
            "text/plain": [
              "['Apple', 'Orange', 'Milk', 'pen', 123, 23.56, 'copy', (3+8j), True, False]"
            ]
          },
          "metadata": {},
          "execution_count": 7
        }
      ]
    },
    {
      "cell_type": "code",
      "source": [
        "shopping_list[2]"
      ],
      "metadata": {
        "colab": {
          "base_uri": "https://localhost:8080/",
          "height": 35
        },
        "id": "i3ewZgTOIbNp",
        "outputId": "278fed3c-32b9-41fa-d499-b32ca2c2287a"
      },
      "execution_count": null,
      "outputs": [
        {
          "output_type": "execute_result",
          "data": {
            "text/plain": [
              "'Milk'"
            ],
            "application/vnd.google.colaboratory.intrinsic+json": {
              "type": "string"
            }
          },
          "metadata": {},
          "execution_count": 8
        }
      ]
    },
    {
      "cell_type": "code",
      "source": [
        "shopping_list[-3]"
      ],
      "metadata": {
        "colab": {
          "base_uri": "https://localhost:8080/"
        },
        "id": "rjaxRXLCIlYe",
        "outputId": "623083e2-c7b8-44c4-d763-89e6b3424f7b"
      },
      "execution_count": null,
      "outputs": [
        {
          "output_type": "execute_result",
          "data": {
            "text/plain": [
              "(3+8j)"
            ]
          },
          "metadata": {},
          "execution_count": 9
        }
      ]
    },
    {
      "cell_type": "code",
      "source": [
        "shopping_list[6]"
      ],
      "metadata": {
        "colab": {
          "base_uri": "https://localhost:8080/",
          "height": 35
        },
        "id": "MW2HlWIlIy9A",
        "outputId": "6e0491e2-bfea-458e-8f9c-13d59954241b"
      },
      "execution_count": null,
      "outputs": [
        {
          "output_type": "execute_result",
          "data": {
            "text/plain": [
              "'copy'"
            ],
            "application/vnd.google.colaboratory.intrinsic+json": {
              "type": "string"
            }
          },
          "metadata": {},
          "execution_count": 10
        }
      ]
    },
    {
      "cell_type": "code",
      "source": [
        "# Example for 'Modify' the list elements :-\n",
        "\n",
        "shopping_list = [\"Apple\", \"Orange\", \"Milk\", \"pen\", 123, 23.56, \"copy\", 3+8j, True, False]\n",
        "shopping_list"
      ],
      "metadata": {
        "colab": {
          "base_uri": "https://localhost:8080/"
        },
        "id": "CWq8jayrJDzJ",
        "outputId": "a287500a-c488-4c23-80fe-e119665c9aad"
      },
      "execution_count": null,
      "outputs": [
        {
          "output_type": "execute_result",
          "data": {
            "text/plain": [
              "['Apple', 'Orange', 'Milk', 'pen', 123, 23.56, 'copy', (3+8j), True, False]"
            ]
          },
          "metadata": {},
          "execution_count": 1
        }
      ]
    },
    {
      "cell_type": "code",
      "source": [
        "shopping_list.append(\"Data analytics\")\n",
        "shopping_list"
      ],
      "metadata": {
        "colab": {
          "base_uri": "https://localhost:8080/"
        },
        "id": "2WtGNlOcjZRi",
        "outputId": "2da0e553-39d1-45bc-8887-cbce6ef152b2"
      },
      "execution_count": null,
      "outputs": [
        {
          "output_type": "execute_result",
          "data": {
            "text/plain": [
              "['Apple',\n",
              " 'Orange',\n",
              " 'Milk',\n",
              " 'pen',\n",
              " 123,\n",
              " 23.56,\n",
              " 'copy',\n",
              " (3+8j),\n",
              " True,\n",
              " False,\n",
              " 'Data analytics']"
            ]
          },
          "metadata": {},
          "execution_count": 2
        }
      ]
    },
    {
      "cell_type": "code",
      "source": [
        "shopping_list.insert(-5, \"Banana\")\n",
        "shopping_list"
      ],
      "metadata": {
        "colab": {
          "base_uri": "https://localhost:8080/"
        },
        "id": "DIQUE1J8kQiF",
        "outputId": "884de74d-a2ce-4f97-8bb4-bda817d4e9f6"
      },
      "execution_count": null,
      "outputs": [
        {
          "output_type": "execute_result",
          "data": {
            "text/plain": [
              "['Apple',\n",
              " 'Orange',\n",
              " 'Milk',\n",
              " 'pen',\n",
              " 123,\n",
              " 23.56,\n",
              " 'Banana',\n",
              " 'copy',\n",
              " (3+8j),\n",
              " True,\n",
              " False,\n",
              " 'Data analytics']"
            ]
          },
          "metadata": {},
          "execution_count": 3
        }
      ]
    },
    {
      "cell_type": "code",
      "source": [
        "shopping_list = [\"Apple\", \"Orange\", \"Milk\", \"pen\", 123, 23.56, \"copy\", 3+8j, True, False]\n",
        "shopping_list_2 = [\"Masala Oats\"]\n",
        "shopping_list_2.extend(shopping_list)"
      ],
      "metadata": {
        "id": "Pgm3m-z3kmI_"
      },
      "execution_count": null,
      "outputs": []
    },
    {
      "cell_type": "code",
      "source": [
        "shopping_list_2"
      ],
      "metadata": {
        "colab": {
          "base_uri": "https://localhost:8080/"
        },
        "id": "zQnRY-iblEiY",
        "outputId": "6a80b924-cf82-4eb8-9795-f9e6e1699481"
      },
      "execution_count": null,
      "outputs": [
        {
          "output_type": "execute_result",
          "data": {
            "text/plain": [
              "['Masala Oats',\n",
              " 'Apple',\n",
              " 'Orange',\n",
              " 'Milk',\n",
              " 'pen',\n",
              " 123,\n",
              " 23.56,\n",
              " 'copy',\n",
              " (3+8j),\n",
              " True,\n",
              " False]"
            ]
          },
          "metadata": {},
          "execution_count": 5
        }
      ]
    },
    {
      "cell_type": "code",
      "source": [
        "new_list = shopping_list_2\n",
        "new_list\n"
      ],
      "metadata": {
        "colab": {
          "base_uri": "https://localhost:8080/"
        },
        "id": "fEPj1QTwlGyy",
        "outputId": "78691fa2-7c05-4f57-8819-23f7975ac00e"
      },
      "execution_count": null,
      "outputs": [
        {
          "output_type": "execute_result",
          "data": {
            "text/plain": [
              "['Masala Oats',\n",
              " 'Apple',\n",
              " 'Orange',\n",
              " 'Milk',\n",
              " 'pen',\n",
              " 123,\n",
              " 23.56,\n",
              " 'copy',\n",
              " (3+8j),\n",
              " True,\n",
              " False]"
            ]
          },
          "metadata": {},
          "execution_count": 6
        }
      ]
    },
    {
      "cell_type": "code",
      "source": [
        "new_list[2] = \"Cold drinks\"\n",
        "new_list"
      ],
      "metadata": {
        "colab": {
          "base_uri": "https://localhost:8080/"
        },
        "id": "g6eSKOA2lofx",
        "outputId": "49cce291-7295-44ab-d0f5-ffbe2bc4e60c"
      },
      "execution_count": null,
      "outputs": [
        {
          "output_type": "execute_result",
          "data": {
            "text/plain": [
              "['Masala Oats',\n",
              " 'Apple',\n",
              " 'Cold drinks',\n",
              " 'Milk',\n",
              " 'pen',\n",
              " 123,\n",
              " 23.56,\n",
              " 'copy',\n",
              " (3+8j),\n",
              " True,\n",
              " False]"
            ]
          },
          "metadata": {},
          "execution_count": 7
        }
      ]
    },
    {
      "cell_type": "code",
      "source": [
        "shopping_list_2"
      ],
      "metadata": {
        "colab": {
          "base_uri": "https://localhost:8080/"
        },
        "id": "dxuNeyGsl3VB",
        "outputId": "73a95ffd-6298-4210-c0e6-29ce38a52e27"
      },
      "execution_count": null,
      "outputs": [
        {
          "output_type": "execute_result",
          "data": {
            "text/plain": [
              "['Masala Oats',\n",
              " 'Apple',\n",
              " 'Cold drinks',\n",
              " 'Milk',\n",
              " 'pen',\n",
              " 123,\n",
              " 23.56,\n",
              " 'copy',\n",
              " (3+8j),\n",
              " True,\n",
              " False]"
            ]
          },
          "metadata": {},
          "execution_count": 8
        }
      ]
    },
    {
      "cell_type": "code",
      "source": [
        "b = shopping_list.copy()"
      ],
      "metadata": {
        "id": "V2OPsPvOl7LT"
      },
      "execution_count": null,
      "outputs": []
    },
    {
      "cell_type": "code",
      "source": [
        "b"
      ],
      "metadata": {
        "colab": {
          "base_uri": "https://localhost:8080/"
        },
        "id": "J7W6e2aTmEAo",
        "outputId": "ed34e992-1cac-4cdf-8f08-2afa9e661bdc"
      },
      "execution_count": null,
      "outputs": [
        {
          "output_type": "execute_result",
          "data": {
            "text/plain": [
              "['Apple', 'Orange', 'Milk', 'pen', 123, 23.56, 'copy', (3+8j), True, False]"
            ]
          },
          "metadata": {},
          "execution_count": 10
        }
      ]
    },
    {
      "cell_type": "code",
      "source": [
        "shopping_list"
      ],
      "metadata": {
        "colab": {
          "base_uri": "https://localhost:8080/"
        },
        "id": "Wjzvl5P-mEj-",
        "outputId": "ae6f1081-4d3b-4f9c-bf1d-046cde1b811b"
      },
      "execution_count": null,
      "outputs": [
        {
          "output_type": "execute_result",
          "data": {
            "text/plain": [
              "['Apple', 'Orange', 'Milk', 'pen', 123, 23.56, 'copy', (3+8j), True, False]"
            ]
          },
          "metadata": {},
          "execution_count": 11
        }
      ]
    },
    {
      "cell_type": "code",
      "source": [
        "b[4] = \"Marker Pen\"\n",
        "b"
      ],
      "metadata": {
        "colab": {
          "base_uri": "https://localhost:8080/"
        },
        "id": "jKCjbRPpmGjv",
        "outputId": "682bc54f-8d79-414b-8334-c6f9892dae39"
      },
      "execution_count": null,
      "outputs": [
        {
          "output_type": "execute_result",
          "data": {
            "text/plain": [
              "['Apple',\n",
              " 'Orange',\n",
              " 'Milk',\n",
              " 'pen',\n",
              " 'Marker Pen',\n",
              " 23.56,\n",
              " 'copy',\n",
              " (3+8j),\n",
              " True,\n",
              " False]"
            ]
          },
          "metadata": {},
          "execution_count": 13
        }
      ]
    },
    {
      "cell_type": "code",
      "source": [
        "shopping_list = [\"Apple\", \"Orange\", \"Milk\", \"pen\", \"Cold drink\", \"Oil\"]\n",
        "shopping_list"
      ],
      "metadata": {
        "colab": {
          "base_uri": "https://localhost:8080/"
        },
        "id": "JTNEjy5imPYT",
        "outputId": "650a778c-7da5-4b61-80fc-6687fd358507"
      },
      "execution_count": null,
      "outputs": [
        {
          "output_type": "execute_result",
          "data": {
            "text/plain": [
              "['Apple', 'Orange', 'Milk', 'pen', 'Cold drink', 'Oil']"
            ]
          },
          "metadata": {},
          "execution_count": 25
        }
      ]
    },
    {
      "cell_type": "code",
      "source": [
        "sorted(shopping_list)"
      ],
      "metadata": {
        "colab": {
          "base_uri": "https://localhost:8080/"
        },
        "id": "iXlaBjucmS6A",
        "outputId": "79614ba2-4c58-46f3-baaf-0bc4c6840f66"
      },
      "execution_count": null,
      "outputs": [
        {
          "output_type": "execute_result",
          "data": {
            "text/plain": [
              "['Apple', 'Cold drink', 'Milk', 'Oil', 'Orange', 'pen']"
            ]
          },
          "metadata": {},
          "execution_count": 26
        }
      ]
    },
    {
      "cell_type": "code",
      "source": [
        "shopping_list.index(\"Milk\")"
      ],
      "metadata": {
        "colab": {
          "base_uri": "https://localhost:8080/"
        },
        "id": "6NatU59RmayJ",
        "outputId": "5fe499c6-0f8e-4dfa-a8ae-df2670be8b62"
      },
      "execution_count": null,
      "outputs": [
        {
          "output_type": "execute_result",
          "data": {
            "text/plain": [
              "2"
            ]
          },
          "metadata": {},
          "execution_count": 27
        }
      ]
    },
    {
      "cell_type": "code",
      "source": [
        "shopping_list.remove(\"pen\")"
      ],
      "metadata": {
        "id": "LneAxuzEnHij"
      },
      "execution_count": null,
      "outputs": []
    },
    {
      "cell_type": "code",
      "source": [
        "shopping_list"
      ],
      "metadata": {
        "colab": {
          "base_uri": "https://localhost:8080/"
        },
        "id": "ItC0QczeneQd",
        "outputId": "0b34da93-f519-4700-b0d3-20a3e4efe8fe"
      },
      "execution_count": null,
      "outputs": [
        {
          "output_type": "execute_result",
          "data": {
            "text/plain": [
              "['Apple', 'Orange', 'Milk', 'Cold drink', 'Oil']"
            ]
          },
          "metadata": {},
          "execution_count": 29
        }
      ]
    },
    {
      "cell_type": "code",
      "source": [
        "shopping_list.pop()"
      ],
      "metadata": {
        "colab": {
          "base_uri": "https://localhost:8080/",
          "height": 35
        },
        "id": "6qnuxvnVnfdM",
        "outputId": "50fd820c-ad82-4031-bd5b-2c683752cc5b"
      },
      "execution_count": null,
      "outputs": [
        {
          "output_type": "execute_result",
          "data": {
            "text/plain": [
              "'Oil'"
            ],
            "application/vnd.google.colaboratory.intrinsic+json": {
              "type": "string"
            }
          },
          "metadata": {},
          "execution_count": 30
        }
      ]
    },
    {
      "cell_type": "code",
      "source": [
        "shopping_list"
      ],
      "metadata": {
        "colab": {
          "base_uri": "https://localhost:8080/"
        },
        "id": "WU8o-wiSnsTb",
        "outputId": "753af9e6-cc9a-422d-9183-7aad3dfde97d"
      },
      "execution_count": null,
      "outputs": [
        {
          "output_type": "execute_result",
          "data": {
            "text/plain": [
              "['Apple', 'Orange', 'Milk', 'Cold drink']"
            ]
          },
          "metadata": {},
          "execution_count": 31
        }
      ]
    },
    {
      "cell_type": "code",
      "source": [
        "shopping_list.clear()"
      ],
      "metadata": {
        "id": "Ioxh18t_nuNB"
      },
      "execution_count": null,
      "outputs": []
    },
    {
      "cell_type": "code",
      "source": [
        "shopping_list"
      ],
      "metadata": {
        "colab": {
          "base_uri": "https://localhost:8080/"
        },
        "id": "BaUhqt_anxWh",
        "outputId": "2f890907-8c8b-43b6-fbaa-8de37ffcfda7"
      },
      "execution_count": null,
      "outputs": [
        {
          "output_type": "execute_result",
          "data": {
            "text/plain": [
              "[]"
            ]
          },
          "metadata": {},
          "execution_count": 33
        }
      ]
    },
    {
      "cell_type": "code",
      "source": [
        "del shopping_list"
      ],
      "metadata": {
        "id": "ZMb-2gfBn1W-"
      },
      "execution_count": null,
      "outputs": []
    },
    {
      "cell_type": "code",
      "source": [
        "shopping_list"
      ],
      "metadata": {
        "colab": {
          "base_uri": "https://localhost:8080/",
          "height": 141
        },
        "id": "3ourdnl8n4HV",
        "outputId": "50471cd7-aca4-452c-9cfc-7d49e5d92285"
      },
      "execution_count": null,
      "outputs": [
        {
          "output_type": "error",
          "ename": "NameError",
          "evalue": "name 'shopping_list' is not defined",
          "traceback": [
            "\u001b[0;31m---------------------------------------------------------------------------\u001b[0m",
            "\u001b[0;31mNameError\u001b[0m                                 Traceback (most recent call last)",
            "\u001b[0;32m<ipython-input-35-cdfcd6abcd44>\u001b[0m in \u001b[0;36m<cell line: 1>\u001b[0;34m()\u001b[0m\n\u001b[0;32m----> 1\u001b[0;31m \u001b[0mshopping_list\u001b[0m\u001b[0;34m\u001b[0m\u001b[0;34m\u001b[0m\u001b[0m\n\u001b[0m",
            "\u001b[0;31mNameError\u001b[0m: name 'shopping_list' is not defined"
          ]
        }
      ]
    },
    {
      "cell_type": "markdown",
      "source": [
        "Answer 4 :- Comparison between Tuples and list are :-\n",
        "\n",
        "***Tuples***:-\n",
        "- Tuples Once defined/created data elements cannot change or manipulate.\n",
        "\n",
        "- Tuples is indicated from parentheses ( ).\n",
        "\n",
        "- Tuples is immutable object, It means you can't change the value.\n",
        "\n",
        "***Lists***:-\n",
        "- List is ordered collection of items/elements.\n",
        "\n",
        "- List is indicated from Square Bracket [ ].\n",
        "\n",
        "- Lists is mutable object, It means you can change the value."
      ],
      "metadata": {
        "id": "wuHPJfauoLFd"
      }
    },
    {
      "cell_type": "code",
      "source": [
        "# Example of Tuples :-\n",
        "\n",
        "tuples = (\"pwskills\", \"sunita\", 123, 12.4, \"Ajay\", 4+7j, True, False)\n",
        "tuples"
      ],
      "metadata": {
        "colab": {
          "base_uri": "https://localhost:8080/"
        },
        "id": "5fKrJe6tn6pp",
        "outputId": "7b6c018f-0983-4ccb-d48b-0e8ad4679a01"
      },
      "execution_count": null,
      "outputs": [
        {
          "output_type": "execute_result",
          "data": {
            "text/plain": [
              "('pwskills', 'sunita', 123, 12.4, 'Ajay', (4+7j), True, False)"
            ]
          },
          "metadata": {},
          "execution_count": 40
        }
      ]
    },
    {
      "cell_type": "code",
      "source": [
        "tuples[4]"
      ],
      "metadata": {
        "colab": {
          "base_uri": "https://localhost:8080/",
          "height": 35
        },
        "id": "N9kDdmM_q2I3",
        "outputId": "53e7dcad-1fe7-40fb-f6db-cad34dc5ed23"
      },
      "execution_count": null,
      "outputs": [
        {
          "output_type": "execute_result",
          "data": {
            "text/plain": [
              "'Ajay'"
            ],
            "application/vnd.google.colaboratory.intrinsic+json": {
              "type": "string"
            }
          },
          "metadata": {},
          "execution_count": 41
        }
      ]
    },
    {
      "cell_type": "code",
      "source": [
        "tuples[4] = \"Data analytics\""
      ],
      "metadata": {
        "colab": {
          "base_uri": "https://localhost:8080/",
          "height": 141
        },
        "id": "g3nIMIVUrD74",
        "outputId": "d0894932-f102-409f-fde5-261f0ba7169c"
      },
      "execution_count": null,
      "outputs": [
        {
          "output_type": "error",
          "ename": "TypeError",
          "evalue": "'tuple' object does not support item assignment",
          "traceback": [
            "\u001b[0;31m---------------------------------------------------------------------------\u001b[0m",
            "\u001b[0;31mTypeError\u001b[0m                                 Traceback (most recent call last)",
            "\u001b[0;32m<ipython-input-42-0bdf8e853539>\u001b[0m in \u001b[0;36m<cell line: 1>\u001b[0;34m()\u001b[0m\n\u001b[0;32m----> 1\u001b[0;31m \u001b[0mtuples\u001b[0m\u001b[0;34m[\u001b[0m\u001b[0;36m4\u001b[0m\u001b[0;34m]\u001b[0m \u001b[0;34m=\u001b[0m \u001b[0;34m\"Data analytics\"\u001b[0m\u001b[0;34m\u001b[0m\u001b[0;34m\u001b[0m\u001b[0m\n\u001b[0m",
            "\u001b[0;31mTypeError\u001b[0m: 'tuple' object does not support item assignment"
          ]
        }
      ]
    },
    {
      "cell_type": "code",
      "source": [
        "# Example of List :-\n",
        "\n",
        "list = [\"pwskills\", \"sunita\", 123, 12.4, \"Ajay\", 4+7j, True, False]\n",
        "list"
      ],
      "metadata": {
        "colab": {
          "base_uri": "https://localhost:8080/"
        },
        "id": "X95cyGM4rO-6",
        "outputId": "f73fe84a-3bcf-40bb-d2fa-6a153a03a935"
      },
      "execution_count": null,
      "outputs": [
        {
          "output_type": "execute_result",
          "data": {
            "text/plain": [
              "['pwskills', 'sunita', 123, 12.4, 'Ajay', (4+7j), True, False]"
            ]
          },
          "metadata": {},
          "execution_count": 43
        }
      ]
    },
    {
      "cell_type": "code",
      "source": [
        "list[3]"
      ],
      "metadata": {
        "colab": {
          "base_uri": "https://localhost:8080/"
        },
        "id": "vIRdUHxSrbU8",
        "outputId": "374ff6f2-7290-4138-e4d4-c08211395311"
      },
      "execution_count": null,
      "outputs": [
        {
          "output_type": "execute_result",
          "data": {
            "text/plain": [
              "12.4"
            ]
          },
          "metadata": {},
          "execution_count": 44
        }
      ]
    },
    {
      "cell_type": "code",
      "source": [
        "list[3] = \"Data analytics\"\n",
        "list"
      ],
      "metadata": {
        "colab": {
          "base_uri": "https://localhost:8080/"
        },
        "id": "_0077sf1reRq",
        "outputId": "fb85839b-c43c-44dc-af72-b5c32e1e9634"
      },
      "execution_count": null,
      "outputs": [
        {
          "output_type": "execute_result",
          "data": {
            "text/plain": [
              "['pwskills', 'sunita', 123, 'Data analytics', 'Ajay', (4+7j), True, False]"
            ]
          },
          "metadata": {},
          "execution_count": 45
        }
      ]
    },
    {
      "cell_type": "markdown",
      "source": [
        "Answer 5 :- The key features of Sets are :-\n",
        "\n",
        "- Sets are unordered collection of unique element.\n",
        "- Sets is represent as { } curly brackets.\n",
        "- Sets help to exclude the duplicate value/elements in the data.\n",
        "- Set doesn't execute in sequential order.\n",
        "- Sets elements can add and remove.\n",
        "- Sets can store various data type (Integer, Float, Boolean, Strings, Complex value).\n",
        "\n",
        "#### There are also 4 types of Operations in Set:-\n",
        "1) Union Set Operation. :- This will include all the elements from both two different sets.\n",
        "\n",
        "2) Intersection Set Operation. :- This will only include all the common elements from both two different sets.\n",
        "\n",
        "3) Difference Set Operation. :- This will show all the elements from set both the sets which are not common.\n",
        "\n",
        "4) Symmetric Set Operation. :- This will show all the elements except common and that are either in the first or second set but not in both."
      ],
      "metadata": {
        "id": "MQfWZ7Pwr2Y5"
      }
    },
    {
      "cell_type": "code",
      "source": [
        "# Example :-\n",
        "\n",
        "sets = {\"sunita\", 1, 2, 3.87, True, 1, 1,\"Ajay\", 1, 2, 2, \"Ajay\", False}\n",
        "sets"
      ],
      "metadata": {
        "colab": {
          "base_uri": "https://localhost:8080/"
        },
        "id": "praSvy04rk-V",
        "outputId": "7b9b9466-41c2-424b-c697-a3b37b59a450"
      },
      "execution_count": null,
      "outputs": [
        {
          "output_type": "execute_result",
          "data": {
            "text/plain": [
              "{1, 2, 3.87, 'Ajay', False, 'sunita'}"
            ]
          },
          "metadata": {},
          "execution_count": 47
        }
      ]
    },
    {
      "cell_type": "code",
      "source": [
        "sets[4]"
      ],
      "metadata": {
        "colab": {
          "base_uri": "https://localhost:8080/",
          "height": 141
        },
        "id": "z_sFH5k3tGOF",
        "outputId": "71a2c0bc-6805-411b-aed6-8354b0cef3ae"
      },
      "execution_count": null,
      "outputs": [
        {
          "output_type": "error",
          "ename": "TypeError",
          "evalue": "'set' object is not subscriptable",
          "traceback": [
            "\u001b[0;31m---------------------------------------------------------------------------\u001b[0m",
            "\u001b[0;31mTypeError\u001b[0m                                 Traceback (most recent call last)",
            "\u001b[0;32m<ipython-input-48-e4f50ad32bec>\u001b[0m in \u001b[0;36m<cell line: 1>\u001b[0;34m()\u001b[0m\n\u001b[0;32m----> 1\u001b[0;31m \u001b[0msets\u001b[0m\u001b[0;34m[\u001b[0m\u001b[0;36m4\u001b[0m\u001b[0;34m]\u001b[0m\u001b[0;34m\u001b[0m\u001b[0;34m\u001b[0m\u001b[0m\n\u001b[0m",
            "\u001b[0;31mTypeError\u001b[0m: 'set' object is not subscriptable"
          ]
        }
      ]
    },
    {
      "cell_type": "code",
      "source": [
        "sets.add(\"data analytics\")\n",
        "sets"
      ],
      "metadata": {
        "colab": {
          "base_uri": "https://localhost:8080/"
        },
        "id": "-0ga0Supth0u",
        "outputId": "38614a2a-4326-4b39-cbea-0b8b443865d9"
      },
      "execution_count": null,
      "outputs": [
        {
          "output_type": "execute_result",
          "data": {
            "text/plain": [
              "{1, 2, 3.87, 'Ajay', False, 'data analytics', 'sunita'}"
            ]
          },
          "metadata": {},
          "execution_count": 49
        }
      ]
    },
    {
      "cell_type": "code",
      "source": [
        "sets.pop()"
      ],
      "metadata": {
        "colab": {
          "base_uri": "https://localhost:8080/"
        },
        "id": "EsyoCzNUtvU7",
        "outputId": "fafc4584-7f3d-4ad9-e4fd-02b012d21ab7"
      },
      "execution_count": null,
      "outputs": [
        {
          "output_type": "execute_result",
          "data": {
            "text/plain": [
              "False"
            ]
          },
          "metadata": {},
          "execution_count": 50
        }
      ]
    },
    {
      "cell_type": "code",
      "source": [
        "sets"
      ],
      "metadata": {
        "colab": {
          "base_uri": "https://localhost:8080/"
        },
        "id": "A2iQIKAmtzWH",
        "outputId": "1895b85c-9b10-4d05-9f87-de189c12c7bd"
      },
      "execution_count": null,
      "outputs": [
        {
          "output_type": "execute_result",
          "data": {
            "text/plain": [
              "{1, 2, 3.87, 'Ajay', 'data analytics', 'sunita'}"
            ]
          },
          "metadata": {},
          "execution_count": 51
        }
      ]
    },
    {
      "cell_type": "code",
      "source": [
        "sets.remove(\"Ajay\")\n",
        "sets"
      ],
      "metadata": {
        "colab": {
          "base_uri": "https://localhost:8080/"
        },
        "id": "7QB6EPKZt1ee",
        "outputId": "ad0c717a-87ad-43dd-bd62-b2e073d483c9"
      },
      "execution_count": null,
      "outputs": [
        {
          "output_type": "execute_result",
          "data": {
            "text/plain": [
              "{1, 2, 3.87, 'data analytics', 'sunita'}"
            ]
          },
          "metadata": {},
          "execution_count": 52
        }
      ]
    },
    {
      "cell_type": "code",
      "source": [
        "for i in (sets):\n",
        "  print(i)"
      ],
      "metadata": {
        "colab": {
          "base_uri": "https://localhost:8080/"
        },
        "id": "xhYXIW9PuDlx",
        "outputId": "a947cecd-d1a2-4935-e3c0-aedd51ffa1fb"
      },
      "execution_count": null,
      "outputs": [
        {
          "output_type": "stream",
          "name": "stdout",
          "text": [
            "1\n",
            "2\n",
            "3.87\n",
            "sunita\n",
            "data analytics\n"
          ]
        }
      ]
    },
    {
      "cell_type": "code",
      "source": [
        "sets.discard(\"Orange\")"
      ],
      "metadata": {
        "id": "T04JQqCmuKDV"
      },
      "execution_count": null,
      "outputs": []
    },
    {
      "cell_type": "code",
      "source": [
        "sets.update({\"pwskills\", 23})\n",
        "sets"
      ],
      "metadata": {
        "colab": {
          "base_uri": "https://localhost:8080/"
        },
        "id": "D7nlrufkuRsu",
        "outputId": "56bf07da-2e14-4ef2-ce4b-a9396eb28970"
      },
      "execution_count": null,
      "outputs": [
        {
          "output_type": "execute_result",
          "data": {
            "text/plain": [
              "{1, 2, 23, 3.87, 'data analytics', 'pwskills', 'sunita'}"
            ]
          },
          "metadata": {},
          "execution_count": 55
        }
      ]
    },
    {
      "cell_type": "code",
      "source": [
        "sets.clear()\n",
        "sets"
      ],
      "metadata": {
        "colab": {
          "base_uri": "https://localhost:8080/"
        },
        "id": "e3y5UfCSuohV",
        "outputId": "fef9cfc8-0d59-4e28-fdb4-cce9bc372264"
      },
      "execution_count": null,
      "outputs": [
        {
          "output_type": "execute_result",
          "data": {
            "text/plain": [
              "set()"
            ]
          },
          "metadata": {},
          "execution_count": 56
        }
      ]
    },
    {
      "cell_type": "code",
      "source": [
        "del(sets)"
      ],
      "metadata": {
        "id": "MIZFZ2MQu6q7"
      },
      "execution_count": null,
      "outputs": []
    },
    {
      "cell_type": "code",
      "source": [
        "sets"
      ],
      "metadata": {
        "colab": {
          "base_uri": "https://localhost:8080/",
          "height": 141
        },
        "id": "6NHZBj8tu_il",
        "outputId": "abed9ff2-2a19-4c2a-8564-792042eaab4d"
      },
      "execution_count": null,
      "outputs": [
        {
          "output_type": "error",
          "ename": "NameError",
          "evalue": "name 'sets' is not defined",
          "traceback": [
            "\u001b[0;31m---------------------------------------------------------------------------\u001b[0m",
            "\u001b[0;31mNameError\u001b[0m                                 Traceback (most recent call last)",
            "\u001b[0;32m<ipython-input-58-af894641e383>\u001b[0m in \u001b[0;36m<cell line: 1>\u001b[0;34m()\u001b[0m\n\u001b[0;32m----> 1\u001b[0;31m \u001b[0msets\u001b[0m\u001b[0;34m\u001b[0m\u001b[0;34m\u001b[0m\u001b[0m\n\u001b[0m",
            "\u001b[0;31mNameError\u001b[0m: name 'sets' is not defined"
          ]
        }
      ]
    },
    {
      "cell_type": "code",
      "source": [
        "sets1 = {\"sunita\", 3.87, True,\"Ajay\", 5, 6, 7, \"Ajay\", False}\n",
        "sets2 = {\"sunita\", 1, 2, True, \"Ajay\", 8, 9, \"Ajay\", False}"
      ],
      "metadata": {
        "id": "UZ31SnxkvAlo"
      },
      "execution_count": null,
      "outputs": []
    },
    {
      "cell_type": "code",
      "source": [
        "sets1"
      ],
      "metadata": {
        "colab": {
          "base_uri": "https://localhost:8080/"
        },
        "id": "W6QDf3qVw3E4",
        "outputId": "e2f35aad-7e33-4f25-e609-781b24d01105"
      },
      "execution_count": null,
      "outputs": [
        {
          "output_type": "execute_result",
          "data": {
            "text/plain": [
              "{3.87, 5, 6, 7, 'Ajay', False, True, 'sunita'}"
            ]
          },
          "metadata": {},
          "execution_count": 61
        }
      ]
    },
    {
      "cell_type": "code",
      "source": [
        "sets2"
      ],
      "metadata": {
        "colab": {
          "base_uri": "https://localhost:8080/"
        },
        "id": "_Uc1Igvgw7zf",
        "outputId": "dcebfd46-72e3-4c10-ca81-8ec2d0236078"
      },
      "execution_count": null,
      "outputs": [
        {
          "output_type": "execute_result",
          "data": {
            "text/plain": [
              "{1, 2, 8, 9, 'Ajay', False, 'sunita'}"
            ]
          },
          "metadata": {},
          "execution_count": 62
        }
      ]
    },
    {
      "cell_type": "code",
      "source": [
        "sets1 | sets2"
      ],
      "metadata": {
        "colab": {
          "base_uri": "https://localhost:8080/"
        },
        "id": "XtXXcviJw9aF",
        "outputId": "32dfc550-5765-4cad-ac3e-4387a5387575"
      },
      "execution_count": null,
      "outputs": [
        {
          "output_type": "execute_result",
          "data": {
            "text/plain": [
              "{2, 3.87, 5, 6, 7, 8, 9, 'Ajay', False, True, 'sunita'}"
            ]
          },
          "metadata": {},
          "execution_count": 63
        }
      ]
    },
    {
      "cell_type": "code",
      "source": [
        "sets1 & sets2"
      ],
      "metadata": {
        "colab": {
          "base_uri": "https://localhost:8080/"
        },
        "id": "ikdkH4hIxA40",
        "outputId": "7856c963-f5c3-48d6-d58e-f0049f241c19"
      },
      "execution_count": null,
      "outputs": [
        {
          "output_type": "execute_result",
          "data": {
            "text/plain": [
              "{1, 'Ajay', False, 'sunita'}"
            ]
          },
          "metadata": {},
          "execution_count": 64
        }
      ]
    },
    {
      "cell_type": "code",
      "source": [
        "sets1 - sets2"
      ],
      "metadata": {
        "colab": {
          "base_uri": "https://localhost:8080/"
        },
        "id": "_OQ3BHqnxM3S",
        "outputId": "300e6a2e-17a9-4cab-8403-679d4693f931"
      },
      "execution_count": null,
      "outputs": [
        {
          "output_type": "execute_result",
          "data": {
            "text/plain": [
              "{3.87, 5, 6, 7}"
            ]
          },
          "metadata": {},
          "execution_count": 65
        }
      ]
    },
    {
      "cell_type": "code",
      "source": [
        "sets1 ^ sets2"
      ],
      "metadata": {
        "colab": {
          "base_uri": "https://localhost:8080/"
        },
        "id": "4vqK1aAvxPsh",
        "outputId": "7b9cb1a8-4d3e-4fe7-a4c3-48040035fa03"
      },
      "execution_count": null,
      "outputs": [
        {
          "output_type": "execute_result",
          "data": {
            "text/plain": [
              "{2, 3.87, 5, 6, 7, 8, 9}"
            ]
          },
          "metadata": {},
          "execution_count": 66
        }
      ]
    },
    {
      "cell_type": "code",
      "source": [
        "sets1 = frozenset([\"sunita\", 3.87, True,\"Ajay\", 5, 6, 5, 5, 7, \"Ajay\", False])\n",
        "sets1\n"
      ],
      "metadata": {
        "colab": {
          "base_uri": "https://localhost:8080/"
        },
        "id": "sTidKjCnxSW-",
        "outputId": "e7626071-730a-4130-f6fa-363709cb5865"
      },
      "execution_count": null,
      "outputs": [
        {
          "output_type": "execute_result",
          "data": {
            "text/plain": [
              "frozenset({3.87, 5, 6, 7, 'Ajay', False, True, 'sunita'})"
            ]
          },
          "metadata": {},
          "execution_count": 68
        }
      ]
    },
    {
      "cell_type": "code",
      "source": [
        "sets1.add(\"pwskills\")"
      ],
      "metadata": {
        "colab": {
          "base_uri": "https://localhost:8080/",
          "height": 141
        },
        "id": "QfXgDAhpxg-I",
        "outputId": "a96205de-d145-4d84-a8c0-bba53e9efb96"
      },
      "execution_count": null,
      "outputs": [
        {
          "output_type": "error",
          "ename": "AttributeError",
          "evalue": "'frozenset' object has no attribute 'add'",
          "traceback": [
            "\u001b[0;31m---------------------------------------------------------------------------\u001b[0m",
            "\u001b[0;31mAttributeError\u001b[0m                            Traceback (most recent call last)",
            "\u001b[0;32m<ipython-input-69-7be2e464a54d>\u001b[0m in \u001b[0;36m<cell line: 1>\u001b[0;34m()\u001b[0m\n\u001b[0;32m----> 1\u001b[0;31m \u001b[0msets1\u001b[0m\u001b[0;34m.\u001b[0m\u001b[0madd\u001b[0m\u001b[0;34m(\u001b[0m\u001b[0;34m\"pwskills\"\u001b[0m\u001b[0;34m)\u001b[0m\u001b[0;34m\u001b[0m\u001b[0;34m\u001b[0m\u001b[0m\n\u001b[0m",
            "\u001b[0;31mAttributeError\u001b[0m: 'frozenset' object has no attribute 'add'"
          ]
        }
      ]
    },
    {
      "cell_type": "markdown",
      "source": [
        "Answer 6 :- Use Cases of Tuples and set are mentioned below :-\n",
        "\n",
        "- Tuples :- Tuples is immutable, So there are few example of tuple which are based on real life that after creating it you can't change or modify it. For example:- Aadhaar Card, Employee I'd, PAN card, Driving license and so on.\n",
        "\n",
        "- Sets :- Sets is unique collection because it don't allow/print the duplicate or repeatation value/element in the data. There are few example of sets which are based on real life data in any company holds a repetitive values or store in list form."
      ],
      "metadata": {
        "id": "D4AD_zh8x4Xj"
      }
    },
    {
      "cell_type": "code",
      "source": [
        "# Use Cases of Tuples :-\n",
        "\n",
        "employee_id = (\"Emp001\", \"Emp002\", \"Emp003\", \"Emp004\", \"Emp005\")\n",
        "employee_id"
      ],
      "metadata": {
        "colab": {
          "base_uri": "https://localhost:8080/"
        },
        "id": "3iO-Ap1Uxrps",
        "outputId": "b22a092d-b541-425b-d4c3-96b65f49489b"
      },
      "execution_count": null,
      "outputs": [
        {
          "output_type": "execute_result",
          "data": {
            "text/plain": [
              "('Emp001', 'Emp002', 'Emp003', 'Emp004', 'Emp005')"
            ]
          },
          "metadata": {},
          "execution_count": 70
        }
      ]
    },
    {
      "cell_type": "code",
      "source": [
        "employee_id[2] = \"Emp006\""
      ],
      "metadata": {
        "colab": {
          "base_uri": "https://localhost:8080/",
          "height": 141
        },
        "id": "t1LsaRbezMmk",
        "outputId": "d7108c15-a5d2-4b3f-cb6b-6bcceedc102b"
      },
      "execution_count": null,
      "outputs": [
        {
          "output_type": "error",
          "ename": "TypeError",
          "evalue": "'tuple' object does not support item assignment",
          "traceback": [
            "\u001b[0;31m---------------------------------------------------------------------------\u001b[0m",
            "\u001b[0;31mTypeError\u001b[0m                                 Traceback (most recent call last)",
            "\u001b[0;32m<ipython-input-71-47497a275ed8>\u001b[0m in \u001b[0;36m<cell line: 1>\u001b[0;34m()\u001b[0m\n\u001b[0;32m----> 1\u001b[0;31m \u001b[0memployee_id\u001b[0m\u001b[0;34m[\u001b[0m\u001b[0;36m2\u001b[0m\u001b[0;34m]\u001b[0m \u001b[0;34m=\u001b[0m \u001b[0;34m\"Emp006\"\u001b[0m\u001b[0;34m\u001b[0m\u001b[0;34m\u001b[0m\u001b[0m\n\u001b[0m",
            "\u001b[0;31mTypeError\u001b[0m: 'tuple' object does not support item assignment"
          ]
        }
      ]
    },
    {
      "cell_type": "code",
      "source": [
        "employee_id.add(\"Emp006\")"
      ],
      "metadata": {
        "colab": {
          "base_uri": "https://localhost:8080/",
          "height": 141
        },
        "id": "T6qTDDDMzj5E",
        "outputId": "bda802d0-4b8d-4914-95e9-5004830ff170"
      },
      "execution_count": null,
      "outputs": [
        {
          "output_type": "error",
          "ename": "AttributeError",
          "evalue": "'tuple' object has no attribute 'add'",
          "traceback": [
            "\u001b[0;31m---------------------------------------------------------------------------\u001b[0m",
            "\u001b[0;31mAttributeError\u001b[0m                            Traceback (most recent call last)",
            "\u001b[0;32m<ipython-input-72-1c30099fa060>\u001b[0m in \u001b[0;36m<cell line: 1>\u001b[0;34m()\u001b[0m\n\u001b[0;32m----> 1\u001b[0;31m \u001b[0memployee_id\u001b[0m\u001b[0;34m.\u001b[0m\u001b[0madd\u001b[0m\u001b[0;34m(\u001b[0m\u001b[0;34m\"Emp006\"\u001b[0m\u001b[0;34m)\u001b[0m\u001b[0;34m\u001b[0m\u001b[0;34m\u001b[0m\u001b[0m\n\u001b[0m",
            "\u001b[0;31mAttributeError\u001b[0m: 'tuple' object has no attribute 'add'"
          ]
        }
      ]
    },
    {
      "cell_type": "code",
      "source": [
        "# Use Cases of Sets :-\n",
        "\n",
        "data = [1, 2, 3, \"pwskills\", \"Brinjal\", \"Brinjal\", \"sunita\", True,1, 1, 2, True, True]\n",
        "data"
      ],
      "metadata": {
        "colab": {
          "base_uri": "https://localhost:8080/"
        },
        "id": "VRL0YEihz3yO",
        "outputId": "e5f079da-7d1c-4a7d-9b8d-6b3bf63be325"
      },
      "execution_count": null,
      "outputs": [
        {
          "output_type": "execute_result",
          "data": {
            "text/plain": [
              "[1,\n",
              " 2,\n",
              " 3,\n",
              " 'pwskills',\n",
              " 'Brinjal',\n",
              " 'Brinjal',\n",
              " 'sunita',\n",
              " True,\n",
              " 1,\n",
              " 1,\n",
              " 2,\n",
              " True,\n",
              " True]"
            ]
          },
          "metadata": {},
          "execution_count": 74
        }
      ]
    },
    {
      "cell_type": "code",
      "source": [
        "type(data)"
      ],
      "metadata": {
        "colab": {
          "base_uri": "https://localhost:8080/"
        },
        "id": "egRg22tu1H_5",
        "outputId": "ebc17827-a314-47ca-8c79-b42495a418cc"
      },
      "execution_count": null,
      "outputs": [
        {
          "output_type": "execute_result",
          "data": {
            "text/plain": [
              "list"
            ]
          },
          "metadata": {},
          "execution_count": 75
        }
      ]
    },
    {
      "cell_type": "code",
      "source": [
        "new_data = set(data)"
      ],
      "metadata": {
        "id": "NfKrs2Vn1Nqu"
      },
      "execution_count": null,
      "outputs": []
    },
    {
      "cell_type": "code",
      "source": [
        "new_data"
      ],
      "metadata": {
        "colab": {
          "base_uri": "https://localhost:8080/"
        },
        "id": "0XrWi8u01ZCN",
        "outputId": "3e2617a3-22f0-411d-ab92-be4c7246eaf7"
      },
      "execution_count": null,
      "outputs": [
        {
          "output_type": "execute_result",
          "data": {
            "text/plain": [
              "{1, 2, 3, 'Brinjal', 'pwskills', 'sunita'}"
            ]
          },
          "metadata": {},
          "execution_count": 77
        }
      ]
    },
    {
      "cell_type": "code",
      "source": [
        "type(new_data)"
      ],
      "metadata": {
        "colab": {
          "base_uri": "https://localhost:8080/"
        },
        "id": "QpYW9BFk1bbA",
        "outputId": "30be4b36-4339-4dfe-f714-cfaf58988614"
      },
      "execution_count": null,
      "outputs": [
        {
          "output_type": "execute_result",
          "data": {
            "text/plain": [
              "set"
            ]
          },
          "metadata": {},
          "execution_count": 78
        }
      ]
    },
    {
      "cell_type": "markdown",
      "source": [
        "Answer 7 :- Below mentions are examples to add, modify and delete items in Dictionary :-"
      ],
      "metadata": {
        "id": "pHe5UzlV1kHy"
      }
    },
    {
      "cell_type": "code",
      "source": [
        "my_dict = {\"Name\":\"Ajay\", \"Age\":29, \"Designation\":\"Data Analyst\", \"Email\":\"sunita12@gmail.com\", \"Contact no.\":2746538902}\n",
        "my_dict"
      ],
      "metadata": {
        "colab": {
          "base_uri": "https://localhost:8080/"
        },
        "id": "VVp_0pDd1exL",
        "outputId": "531919d4-7080-4ac6-eb39-b59602795d5b"
      },
      "execution_count": null,
      "outputs": [
        {
          "output_type": "execute_result",
          "data": {
            "text/plain": [
              "{'Name': 'Ajay',\n",
              " 'Age': 29,\n",
              " 'Designation': 'Data Analyst',\n",
              " 'Email': 'sunita12@gmail.com',\n",
              " 'Contact no.': 2746538902}"
            ]
          },
          "metadata": {},
          "execution_count": 85
        }
      ]
    },
    {
      "cell_type": "code",
      "source": [
        "my_dict = {\"Name\":\"Ajay\", \"Age\":29, \"Designation\":\"Data Analyst\", \"Email\":\"sunita12@gmail.com\", \"Contact no.\":2746538902, \"Name\": \"Sunita\"}\n",
        "my_dict"
      ],
      "metadata": {
        "colab": {
          "base_uri": "https://localhost:8080/"
        },
        "id": "2rdwJI3r34vY",
        "outputId": "5b4b7dc5-bc17-4942-c4c7-86e1b2ee078b"
      },
      "execution_count": null,
      "outputs": [
        {
          "output_type": "execute_result",
          "data": {
            "text/plain": [
              "{'Name': 'Sunita',\n",
              " 'Age': 29,\n",
              " 'Designation': 'Data Analyst',\n",
              " 'Email': 'sunita12@gmail.com',\n",
              " 'Contact no.': 2746538902}"
            ]
          },
          "metadata": {},
          "execution_count": 86
        }
      ]
    },
    {
      "cell_type": "code",
      "source": [
        "my_dict[\"City\"] = \"Varanasi\""
      ],
      "metadata": {
        "id": "-j-2qCbI2Lbj"
      },
      "execution_count": null,
      "outputs": []
    },
    {
      "cell_type": "code",
      "source": [
        "my_dict"
      ],
      "metadata": {
        "colab": {
          "base_uri": "https://localhost:8080/"
        },
        "id": "r5OmLM4Y2vxk",
        "outputId": "f21ece65-12f3-486e-be6b-ee4ccb6d8ee0"
      },
      "execution_count": null,
      "outputs": [
        {
          "output_type": "execute_result",
          "data": {
            "text/plain": [
              "{'Name': 'Sunita',\n",
              " 'Age': 29,\n",
              " 'Designation': 'Data Analyst',\n",
              " 'Email': 'sunita12@gmail.com',\n",
              " 'Contact no.': 2746538902,\n",
              " 'City': 'Varanasi'}"
            ]
          },
          "metadata": {},
          "execution_count": 88
        }
      ]
    },
    {
      "cell_type": "code",
      "source": [
        "d1 = {\"Company\": \"XYZ ltd.\"}\n",
        "d1"
      ],
      "metadata": {
        "colab": {
          "base_uri": "https://localhost:8080/"
        },
        "id": "pSwTKz0B2yE4",
        "outputId": "7ee74f8c-f28e-4b0a-b426-078215d48f1c"
      },
      "execution_count": null,
      "outputs": [
        {
          "output_type": "execute_result",
          "data": {
            "text/plain": [
              "{'Company': 'XYZ ltd.'}"
            ]
          },
          "metadata": {},
          "execution_count": 89
        }
      ]
    },
    {
      "cell_type": "code",
      "source": [
        "my_dict.update(d1)"
      ],
      "metadata": {
        "id": "9SmawZKE3Y5-"
      },
      "execution_count": null,
      "outputs": []
    },
    {
      "cell_type": "code",
      "source": [
        "my_dict"
      ],
      "metadata": {
        "colab": {
          "base_uri": "https://localhost:8080/"
        },
        "id": "a9-8YdAQ3fTM",
        "outputId": "38f91331-c0d2-4bae-8b26-e4c767ce063c"
      },
      "execution_count": null,
      "outputs": [
        {
          "output_type": "execute_result",
          "data": {
            "text/plain": [
              "{'Name': 'Sunita',\n",
              " 'Age': 29,\n",
              " 'Designation': 'Data Analyst',\n",
              " 'Email': 'sunita12@gmail.com',\n",
              " 'Contact no.': 2746538902,\n",
              " 'City': 'Varanasi',\n",
              " 'Company': 'XYZ ltd.'}"
            ]
          },
          "metadata": {},
          "execution_count": 91
        }
      ]
    },
    {
      "cell_type": "code",
      "source": [
        "del my_dict"
      ],
      "metadata": {
        "id": "XYRhCbP93hFr"
      },
      "execution_count": null,
      "outputs": []
    },
    {
      "cell_type": "code",
      "source": [
        "my_dict"
      ],
      "metadata": {
        "colab": {
          "base_uri": "https://localhost:8080/",
          "height": 141
        },
        "id": "NHXryTQH4RcX",
        "outputId": "caabb8fc-94fc-4cf1-e270-c698a98c2051"
      },
      "execution_count": null,
      "outputs": [
        {
          "output_type": "error",
          "ename": "NameError",
          "evalue": "name 'my_dict' is not defined",
          "traceback": [
            "\u001b[0;31m---------------------------------------------------------------------------\u001b[0m",
            "\u001b[0;31mNameError\u001b[0m                                 Traceback (most recent call last)",
            "\u001b[0;32m<ipython-input-94-23f353dd2d1f>\u001b[0m in \u001b[0;36m<cell line: 1>\u001b[0;34m()\u001b[0m\n\u001b[0;32m----> 1\u001b[0;31m \u001b[0mmy_dict\u001b[0m\u001b[0;34m\u001b[0m\u001b[0;34m\u001b[0m\u001b[0m\n\u001b[0m",
            "\u001b[0;31mNameError\u001b[0m: name 'my_dict' is not defined"
          ]
        }
      ]
    },
    {
      "cell_type": "markdown",
      "source": [
        "Answer 8 :- dictionary keys must be immutable, because to access, modify and delete the values or change the values on the basis of key in data. If the key were a mutable object, its value could change, and thus its hash could also change.\n",
        "\n",
        "This is also implimented in real life data and important for companies, restaurant and etc for keeping their company employees data.\n",
        "\n",
        "### Rules of defining Keys :-\n",
        "\n",
        "#### Elements you can use as \"key\" in data as they are immutable:-\n",
        "\n",
        "- You can have Integer numbers (1, 2, 3,....) and Float numbers (2.34, 3.45, 4.6, .....) as \"Key\".\n",
        "\n",
        "- Boolean (True, False) is also act as a \"key\".\n",
        "\n",
        "- Tuples {(1,2,3): 456} is also act as \"key\".\n",
        "\n",
        "##### Elements you cannot use as \"key\" in data:-\n",
        "\n",
        "- Special Characters (#, @, $,......) cannot act as \"Key\". It will through an error.\n",
        "\n",
        "- List {[1,2,3]: 456} cannot act as \"Key\". It will through an error.\n",
        "\n",
        "- Set {{1, 2, 3}:\"pwskills} cannot act as \"Key\".\n",
        "\n",
        "- 'Dictionary' itself {{123:\"abc\"} : \"xyz} cannot act as \"Key\"."
      ],
      "metadata": {
        "id": "k3F9Kb8x5AcD"
      }
    },
    {
      "cell_type": "code",
      "source": [
        "d1 = {1:\"sunita\"}\n",
        "d1"
      ],
      "metadata": {
        "colab": {
          "base_uri": "https://localhost:8080/"
        },
        "id": "8moR1LTk4TOd",
        "outputId": "2ea847ef-04d6-48a8-d11e-6dea1e9c347a"
      },
      "execution_count": null,
      "outputs": [
        {
          "output_type": "execute_result",
          "data": {
            "text/plain": [
              "{1: 'sunita'}"
            ]
          },
          "metadata": {},
          "execution_count": 95
        }
      ]
    },
    {
      "cell_type": "code",
      "source": [
        "d2 = {23.5:\"pwskills\"}\n",
        "d2"
      ],
      "metadata": {
        "colab": {
          "base_uri": "https://localhost:8080/"
        },
        "id": "vxc3s_6s6wvg",
        "outputId": "0c454b6f-3ff7-42ea-962c-49e8fb7424f7"
      },
      "execution_count": null,
      "outputs": [
        {
          "output_type": "execute_result",
          "data": {
            "text/plain": [
              "{23.5: 'pwskills'}"
            ]
          },
          "metadata": {},
          "execution_count": 96
        }
      ]
    },
    {
      "cell_type": "code",
      "source": [
        "d3 = {True:\"Data analytics\"}\n",
        "d3"
      ],
      "metadata": {
        "colab": {
          "base_uri": "https://localhost:8080/"
        },
        "id": "Gdy_4hjL60Zw",
        "outputId": "a01fefad-fb35-43ec-dd37-c48b8aa2e872"
      },
      "execution_count": null,
      "outputs": [
        {
          "output_type": "execute_result",
          "data": {
            "text/plain": [
              "{True: 'Data analytics'}"
            ]
          },
          "metadata": {},
          "execution_count": 97
        }
      ]
    },
    {
      "cell_type": "code",
      "source": [
        "d4 = {(1, 2, 3): 456}\n",
        "d4"
      ],
      "metadata": {
        "colab": {
          "base_uri": "https://localhost:8080/"
        },
        "id": "FDwd8K4i63WV",
        "outputId": "e77b3f87-b08a-4489-b64e-345b1639d7f8"
      },
      "execution_count": null,
      "outputs": [
        {
          "output_type": "execute_result",
          "data": {
            "text/plain": [
              "{(1, 2, 3): 456}"
            ]
          },
          "metadata": {},
          "execution_count": 98
        }
      ]
    },
    {
      "cell_type": "code",
      "source": [
        "d5 = {(1, 2, 3): \"sunita\"}\n",
        "d5"
      ],
      "metadata": {
        "colab": {
          "base_uri": "https://localhost:8080/"
        },
        "id": "n_dKbIdy66um",
        "outputId": "c7b4c997-5d4c-4c1b-f65b-00dbaf40f178"
      },
      "execution_count": null,
      "outputs": [
        {
          "output_type": "execute_result",
          "data": {
            "text/plain": [
              "{(1, 2, 3): 'sunita'}"
            ]
          },
          "metadata": {},
          "execution_count": 99
        }
      ]
    },
    {
      "cell_type": "code",
      "source": [
        "d6 = {#:\"Home work\"}\n",
        "d6"
      ],
      "metadata": {
        "colab": {
          "base_uri": "https://localhost:8080/",
          "height": 106
        },
        "id": "9jio8FRy6_q1",
        "outputId": "46a05510-ad5d-4a02-ce79-947d11876cec"
      },
      "execution_count": null,
      "outputs": [
        {
          "output_type": "error",
          "ename": "SyntaxError",
          "evalue": "incomplete input (<ipython-input-100-0c5759c4d84b>, line 2)",
          "traceback": [
            "\u001b[0;36m  File \u001b[0;32m\"<ipython-input-100-0c5759c4d84b>\"\u001b[0;36m, line \u001b[0;32m2\u001b[0m\n\u001b[0;31m    d6\u001b[0m\n\u001b[0m      ^\u001b[0m\n\u001b[0;31mSyntaxError\u001b[0m\u001b[0;31m:\u001b[0m incomplete input\n"
          ]
        }
      ]
    },
    {
      "cell_type": "code",
      "source": [
        "d7 = {[1,2,3]:\"shyam\"}\n",
        "d7"
      ],
      "metadata": {
        "colab": {
          "base_uri": "https://localhost:8080/",
          "height": 158
        },
        "id": "LDUywqUl7EXc",
        "outputId": "c3844921-c7ec-4b1f-9fa1-579737d32fc9"
      },
      "execution_count": null,
      "outputs": [
        {
          "output_type": "error",
          "ename": "TypeError",
          "evalue": "unhashable type: 'list'",
          "traceback": [
            "\u001b[0;31m---------------------------------------------------------------------------\u001b[0m",
            "\u001b[0;31mTypeError\u001b[0m                                 Traceback (most recent call last)",
            "\u001b[0;32m<ipython-input-101-d6ab0c8e6d7c>\u001b[0m in \u001b[0;36m<cell line: 1>\u001b[0;34m()\u001b[0m\n\u001b[0;32m----> 1\u001b[0;31m \u001b[0md7\u001b[0m \u001b[0;34m=\u001b[0m \u001b[0;34m{\u001b[0m\u001b[0;34m[\u001b[0m\u001b[0;36m1\u001b[0m\u001b[0;34m,\u001b[0m\u001b[0;36m2\u001b[0m\u001b[0;34m,\u001b[0m\u001b[0;36m3\u001b[0m\u001b[0;34m]\u001b[0m\u001b[0;34m:\u001b[0m\u001b[0;34m\"shyam\"\u001b[0m\u001b[0;34m}\u001b[0m\u001b[0;34m\u001b[0m\u001b[0;34m\u001b[0m\u001b[0m\n\u001b[0m\u001b[1;32m      2\u001b[0m \u001b[0md7\u001b[0m\u001b[0;34m\u001b[0m\u001b[0;34m\u001b[0m\u001b[0m\n",
            "\u001b[0;31mTypeError\u001b[0m: unhashable type: 'list'"
          ]
        }
      ]
    },
    {
      "cell_type": "code",
      "source": [
        "d8 = {{1, 2, 3}:\"sunita\"}\n",
        "d8"
      ],
      "metadata": {
        "colab": {
          "base_uri": "https://localhost:8080/",
          "height": 158
        },
        "id": "mP0KYR6S7HgL",
        "outputId": "5c21c1e0-23eb-49f7-93ee-03de8157412b"
      },
      "execution_count": null,
      "outputs": [
        {
          "output_type": "error",
          "ename": "TypeError",
          "evalue": "unhashable type: 'set'",
          "traceback": [
            "\u001b[0;31m---------------------------------------------------------------------------\u001b[0m",
            "\u001b[0;31mTypeError\u001b[0m                                 Traceback (most recent call last)",
            "\u001b[0;32m<ipython-input-102-161f9887c442>\u001b[0m in \u001b[0;36m<cell line: 1>\u001b[0;34m()\u001b[0m\n\u001b[0;32m----> 1\u001b[0;31m \u001b[0md8\u001b[0m \u001b[0;34m=\u001b[0m \u001b[0;34m{\u001b[0m\u001b[0;34m{\u001b[0m\u001b[0;36m1\u001b[0m\u001b[0;34m,\u001b[0m \u001b[0;36m2\u001b[0m\u001b[0;34m,\u001b[0m \u001b[0;36m3\u001b[0m\u001b[0;34m}\u001b[0m\u001b[0;34m:\u001b[0m\u001b[0;34m\"sunita\"\u001b[0m\u001b[0;34m}\u001b[0m\u001b[0;34m\u001b[0m\u001b[0;34m\u001b[0m\u001b[0m\n\u001b[0m\u001b[1;32m      2\u001b[0m \u001b[0md8\u001b[0m\u001b[0;34m\u001b[0m\u001b[0;34m\u001b[0m\u001b[0m\n",
            "\u001b[0;31mTypeError\u001b[0m: unhashable type: 'set'"
          ]
        }
      ]
    },
    {
      "cell_type": "code",
      "source": [
        "d9 = {{123:\"abc\"} : \"xyz\"}\n",
        "d9"
      ],
      "metadata": {
        "colab": {
          "base_uri": "https://localhost:8080/",
          "height": 158
        },
        "id": "5mthk1lt7Koo",
        "outputId": "95996f13-dced-4c6c-c5f2-675ce77d5eeb"
      },
      "execution_count": null,
      "outputs": [
        {
          "output_type": "error",
          "ename": "TypeError",
          "evalue": "unhashable type: 'dict'",
          "traceback": [
            "\u001b[0;31m---------------------------------------------------------------------------\u001b[0m",
            "\u001b[0;31mTypeError\u001b[0m                                 Traceback (most recent call last)",
            "\u001b[0;32m<ipython-input-103-90cf22684d4b>\u001b[0m in \u001b[0;36m<cell line: 1>\u001b[0;34m()\u001b[0m\n\u001b[0;32m----> 1\u001b[0;31m \u001b[0md9\u001b[0m \u001b[0;34m=\u001b[0m \u001b[0;34m{\u001b[0m\u001b[0;34m{\u001b[0m\u001b[0;36m123\u001b[0m\u001b[0;34m:\u001b[0m\u001b[0;34m\"abc\"\u001b[0m\u001b[0;34m}\u001b[0m \u001b[0;34m:\u001b[0m \u001b[0;34m\"xyz\"\u001b[0m\u001b[0;34m}\u001b[0m\u001b[0;34m\u001b[0m\u001b[0;34m\u001b[0m\u001b[0m\n\u001b[0m\u001b[1;32m      2\u001b[0m \u001b[0md9\u001b[0m\u001b[0;34m\u001b[0m\u001b[0;34m\u001b[0m\u001b[0m\n",
            "\u001b[0;31mTypeError\u001b[0m: unhashable type: 'dict'"
          ]
        }
      ]
    },
    {
      "cell_type": "code",
      "source": [],
      "metadata": {
        "id": "Mgno_Mrc7Ofb"
      },
      "execution_count": null,
      "outputs": []
    }
  ]
}